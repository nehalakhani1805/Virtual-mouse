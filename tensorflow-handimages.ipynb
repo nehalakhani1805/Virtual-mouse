{
 "cells": [
  {
   "cell_type": "code",
   "execution_count": null,
   "metadata": {},
   "outputs": [
    {
     "name": "stderr",
     "output_type": "stream",
     "text": [
      "Using TensorFlow backend.\n"
     ]
    }
   ],
   "source": [
    "import math\n",
    "import numpy as np\n",
    "import h5py\n",
    "import matplotlib.pyplot as plt\n",
    "import scipy\n",
    "from PIL import Image\n",
    "from scipy import ndimage\n",
    "import tensorflow as tf\n",
    "from tensorflow import keras\n",
    "from tensorflow.keras import layers\n",
    "from tensorflow.python.framework import ops\n",
    "import matplotlib.image as mpimg\n",
    "import os\n",
    "\n",
    "%matplotlib inline\n",
    "np.random.seed(1)\n",
    "tf.compat.v1.disable_eager_execution()"
   ]
  },
  {
   "cell_type": "code",
   "execution_count": 2,
   "metadata": {},
   "outputs": [
    {
     "ename": "FileNotFoundError",
     "evalue": "[Errno 2] No such file or directory: 'test/000e7aa6-100b-4c6b-9ff0-e7a8e53e4465_5L.png'",
     "output_type": "error",
     "traceback": [
      "\u001b[1;31m---------------------------------------------------------------------------\u001b[0m",
      "\u001b[1;31mFileNotFoundError\u001b[0m                         Traceback (most recent call last)",
      "\u001b[1;32m<ipython-input-2-3ef92eb54448>\u001b[0m in \u001b[0;36m<module>\u001b[1;34m\u001b[0m\n\u001b[1;32m----> 1\u001b[1;33m \u001b[0mimg\u001b[0m \u001b[1;33m=\u001b[0m \u001b[0mmpimg\u001b[0m\u001b[1;33m.\u001b[0m\u001b[0mimread\u001b[0m\u001b[1;33m(\u001b[0m\u001b[1;34m'test/000e7aa6-100b-4c6b-9ff0-e7a8e53e4465_5L.png'\u001b[0m\u001b[1;33m)\u001b[0m\u001b[1;33m\u001b[0m\u001b[1;33m\u001b[0m\u001b[0m\n\u001b[0m\u001b[0;32m      2\u001b[0m \u001b[0mimgplot\u001b[0m \u001b[1;33m=\u001b[0m \u001b[0mplt\u001b[0m\u001b[1;33m.\u001b[0m\u001b[0mimshow\u001b[0m\u001b[1;33m(\u001b[0m\u001b[0mimg\u001b[0m\u001b[1;33m)\u001b[0m\u001b[1;33m\u001b[0m\u001b[1;33m\u001b[0m\u001b[0m\n\u001b[0;32m      3\u001b[0m \u001b[0mplt\u001b[0m\u001b[1;33m.\u001b[0m\u001b[0mshow\u001b[0m\u001b[1;33m(\u001b[0m\u001b[1;33m)\u001b[0m\u001b[1;33m\u001b[0m\u001b[1;33m\u001b[0m\u001b[0m\n",
      "\u001b[1;32m~\\Anaconda3\\lib\\site-packages\\matplotlib\\image.py\u001b[0m in \u001b[0;36mimread\u001b[1;34m(fname, format)\u001b[0m\n\u001b[0;32m   1488\u001b[0m                     \u001b[0mresponse\u001b[0m \u001b[1;33m=\u001b[0m \u001b[0mio\u001b[0m\u001b[1;33m.\u001b[0m\u001b[0mBytesIO\u001b[0m\u001b[1;33m(\u001b[0m\u001b[0mresponse\u001b[0m\u001b[1;33m.\u001b[0m\u001b[0mread\u001b[0m\u001b[1;33m(\u001b[0m\u001b[1;33m)\u001b[0m\u001b[1;33m)\u001b[0m\u001b[1;33m\u001b[0m\u001b[1;33m\u001b[0m\u001b[0m\n\u001b[0;32m   1489\u001b[0m                 \u001b[1;32mreturn\u001b[0m \u001b[0mimread\u001b[0m\u001b[1;33m(\u001b[0m\u001b[0mresponse\u001b[0m\u001b[1;33m,\u001b[0m \u001b[0mformat\u001b[0m\u001b[1;33m=\u001b[0m\u001b[0mext\u001b[0m\u001b[1;33m)\u001b[0m\u001b[1;33m\u001b[0m\u001b[1;33m\u001b[0m\u001b[0m\n\u001b[1;32m-> 1490\u001b[1;33m     \u001b[1;32mwith\u001b[0m \u001b[0mimg_open\u001b[0m\u001b[1;33m(\u001b[0m\u001b[0mfname\u001b[0m\u001b[1;33m)\u001b[0m \u001b[1;32mas\u001b[0m \u001b[0mimage\u001b[0m\u001b[1;33m:\u001b[0m\u001b[1;33m\u001b[0m\u001b[1;33m\u001b[0m\u001b[0m\n\u001b[0m\u001b[0;32m   1491\u001b[0m         return (_pil_png_to_float_array(image)\n\u001b[0;32m   1492\u001b[0m                 \u001b[1;32mif\u001b[0m \u001b[0misinstance\u001b[0m\u001b[1;33m(\u001b[0m\u001b[0mimage\u001b[0m\u001b[1;33m,\u001b[0m \u001b[0mPIL\u001b[0m\u001b[1;33m.\u001b[0m\u001b[0mPngImagePlugin\u001b[0m\u001b[1;33m.\u001b[0m\u001b[0mPngImageFile\u001b[0m\u001b[1;33m)\u001b[0m \u001b[1;32melse\u001b[0m\u001b[1;33m\u001b[0m\u001b[1;33m\u001b[0m\u001b[0m\n",
      "\u001b[1;32m~\\Anaconda3\\lib\\site-packages\\PIL\\ImageFile.py\u001b[0m in \u001b[0;36m__init__\u001b[1;34m(self, fp, filename)\u001b[0m\n\u001b[0;32m    107\u001b[0m         \u001b[1;32mif\u001b[0m \u001b[0misPath\u001b[0m\u001b[1;33m(\u001b[0m\u001b[0mfp\u001b[0m\u001b[1;33m)\u001b[0m\u001b[1;33m:\u001b[0m\u001b[1;33m\u001b[0m\u001b[1;33m\u001b[0m\u001b[0m\n\u001b[0;32m    108\u001b[0m             \u001b[1;31m# filename\u001b[0m\u001b[1;33m\u001b[0m\u001b[1;33m\u001b[0m\u001b[1;33m\u001b[0m\u001b[0m\n\u001b[1;32m--> 109\u001b[1;33m             \u001b[0mself\u001b[0m\u001b[1;33m.\u001b[0m\u001b[0mfp\u001b[0m \u001b[1;33m=\u001b[0m \u001b[0mopen\u001b[0m\u001b[1;33m(\u001b[0m\u001b[0mfp\u001b[0m\u001b[1;33m,\u001b[0m \u001b[1;34m\"rb\"\u001b[0m\u001b[1;33m)\u001b[0m\u001b[1;33m\u001b[0m\u001b[1;33m\u001b[0m\u001b[0m\n\u001b[0m\u001b[0;32m    110\u001b[0m             \u001b[0mself\u001b[0m\u001b[1;33m.\u001b[0m\u001b[0mfilename\u001b[0m \u001b[1;33m=\u001b[0m \u001b[0mfp\u001b[0m\u001b[1;33m\u001b[0m\u001b[1;33m\u001b[0m\u001b[0m\n\u001b[0;32m    111\u001b[0m             \u001b[0mself\u001b[0m\u001b[1;33m.\u001b[0m\u001b[0m_exclusive_fp\u001b[0m \u001b[1;33m=\u001b[0m \u001b[1;32mTrue\u001b[0m\u001b[1;33m\u001b[0m\u001b[1;33m\u001b[0m\u001b[0m\n",
      "\u001b[1;31mFileNotFoundError\u001b[0m: [Errno 2] No such file or directory: 'test/000e7aa6-100b-4c6b-9ff0-e7a8e53e4465_5L.png'"
     ]
    }
   ],
   "source": [
    "img = mpimg.imread('test/000e7aa6-100b-4c6b-9ff0-e7a8e53e4465_5L.png')\n",
    "imgplot = plt.imshow(img)\n",
    "plt.show()"
   ]
  },
  {
   "cell_type": "code",
   "execution_count": 7,
   "metadata": {},
   "outputs": [
    {
     "name": "stdout",
     "output_type": "stream",
     "text": [
      "PNG\n",
      "(128, 128)\n",
      "L\n",
      "<PIL.PngImagePlugin.PngImageFile image mode=L size=128x128 at 0x15199720400>\n"
     ]
    }
   ],
   "source": [
    "image = Image.open('test/000e7aa6-100b-4c6b-9ff0-e7a8e53e4465_5L.png')\n",
    "print(image.format)\n",
    "print(image.size)\n",
    "print(image.mode)\n",
    "# show the image\n",
    "print(image)"
   ]
  },
  {
   "cell_type": "code",
   "execution_count": 7,
   "metadata": {},
   "outputs": [
    {
     "name": "stdout",
     "output_type": "stream",
     "text": [
      "(128, 128)\n",
      "[[71 70 70 ... 53 54 55]\n",
      " [70 71 71 ... 51 53 54]\n",
      " [70 71 73 ... 47 49 50]\n",
      " ...\n",
      " [45 43 41 ... 65 66 67]\n",
      " [47 44 39 ... 62 65 66]\n",
      " [48 45 37 ... 61 64 65]]\n"
     ]
    }
   ],
   "source": [
    "data = np.asarray(image)\n",
    "print(data.shape)\n",
    "print(data)\n",
    "batches = []\n",
    "Y = []\n",
    "count = 0"
   ]
  },
  {
   "cell_type": "code",
   "execution_count": 9,
   "metadata": {},
   "outputs": [
    {
     "name": "stdout",
     "output_type": "stream",
     "text": [
      "Done\n",
      "No. of training examples: 18000\n"
     ]
    }
   ],
   "source": [
    "length = -1\n",
    "for root, dirs, files in os.walk('train'):\n",
    "    batch = []\n",
    "    y = []\n",
    "    length = len(files)\n",
    "    for i in range(length):\n",
    "        if i != 0 and i % 1000 == 0:\n",
    "            batches.append(np.array(batch))\n",
    "            batch = []\n",
    "            y = np.array(y)\n",
    "            Y.append(y)\n",
    "            y = []\n",
    "        image = Image.open('train/' + files[i])\n",
    "        data = np.asarray(image)\n",
    "        data = data.reshape((data.shape[0], data.shape[1], 1))\n",
    "        batch.append(data)\n",
    "        val = int(files[i][-6])\n",
    "        answer = []\n",
    "        \n",
    "        for j in range(6):\n",
    "            if j == val:\n",
    "                answer.append(1)\n",
    "            else:\n",
    "                answer.append(0)\n",
    "        \n",
    "        y.append(answer)\n",
    "    Y.append(y)\n",
    "    if len(batch) != 0:\n",
    "        batches.append(batch)\n",
    "print(\"Done\")\n",
    "print(\"No. of training examples:\", length)"
   ]
  },
  {
   "cell_type": "code",
   "execution_count": 8,
   "metadata": {},
   "outputs": [
    {
     "name": "stdout",
     "output_type": "stream",
     "text": [
      "Done\n",
      "No. of testing examples: 3600\n"
     ]
    }
   ],
   "source": [
    "length = -1\n",
    "test_x = []\n",
    "test_y = []\n",
    "for root, dirs, files in os.walk('test'):\n",
    "    y = []\n",
    "    length = len(files)\n",
    "    for i in range(length):\n",
    "        image = Image.open('test/' + files[i])\n",
    "        data = np.asarray(image)\n",
    "        data = data.reshape((data.shape[0], data.shape[1], 1))\n",
    "        test_x.append(data)\n",
    "        val = int(files[i][-6])\n",
    "        answer = []\n",
    "        \n",
    "        for j in range(6):\n",
    "            if j == val:\n",
    "                answer.append(1)\n",
    "            else:\n",
    "                answer.append(0)\n",
    "        test_y.append(answer)\n",
    "print(\"Done\")\n",
    "print(\"No. of testing examples:\", length)"
   ]
  },
  {
   "cell_type": "code",
   "execution_count": 10,
   "metadata": {},
   "outputs": [
    {
     "name": "stdout",
     "output_type": "stream",
     "text": [
      "3600\n"
     ]
    }
   ],
   "source": [
    "print(len(test_y))"
   ]
  },
  {
   "cell_type": "code",
   "execution_count": 11,
   "metadata": {},
   "outputs": [
    {
     "name": "stdout",
     "output_type": "stream",
     "text": [
      "18\n",
      "18\n",
      "[[1 0 0 0 0 0]\n",
      " [1 0 0 0 0 0]\n",
      " [0 0 1 0 0 0]\n",
      " ...\n",
      " [1 0 0 0 0 0]\n",
      " [0 0 1 0 0 0]\n",
      " [0 0 0 0 1 0]]\n"
     ]
    }
   ],
   "source": [
    "print(len(batches))\n",
    "print(len(Y))\n",
    "print(Y[0])"
   ]
  },
  {
   "cell_type": "code",
   "execution_count": 12,
   "metadata": {},
   "outputs": [
    {
     "name": "stdout",
     "output_type": "stream",
     "text": [
      "(128, 128, 1)\n",
      "[[33]\n",
      " [38]\n",
      " [47]\n",
      " [49]\n",
      " [42]\n",
      " [39]\n",
      " [42]\n",
      " [45]\n",
      " [48]\n",
      " [47]\n",
      " [42]\n",
      " [42]\n",
      " [47]\n",
      " [50]\n",
      " [50]\n",
      " [50]\n",
      " [49]\n",
      " [49]\n",
      " [50]\n",
      " [52]\n",
      " [56]\n",
      " [55]\n",
      " [48]\n",
      " [45]\n",
      " [45]\n",
      " [46]\n",
      " [49]\n",
      " [48]\n",
      " [43]\n",
      " [40]\n",
      " [38]\n",
      " [40]\n",
      " [47]\n",
      " [47]\n",
      " [41]\n",
      " [41]\n",
      " [45]\n",
      " [46]\n",
      " [44]\n",
      " [44]\n",
      " [46]\n",
      " [44]\n",
      " [37]\n",
      " [36]\n",
      " [42]\n",
      " [44]\n",
      " [43]\n",
      " [42]\n",
      " [43]\n",
      " [45]\n",
      " [50]\n",
      " [53]\n",
      " [53]\n",
      " [50]\n",
      " [45]\n",
      " [41]\n",
      " [38]\n",
      " [37]\n",
      " [39]\n",
      " [42]\n",
      " [45]\n",
      " [46]\n",
      " [46]\n",
      " [45]\n",
      " [43]\n",
      " [41]\n",
      " [39]\n",
      " [38]\n",
      " [39]\n",
      " [41]\n",
      " [45]\n",
      " [46]\n",
      " [44]\n",
      " [40]\n",
      " [33]\n",
      " [32]\n",
      " [36]\n",
      " [40]\n",
      " [46]\n",
      " [46]\n",
      " [39]\n",
      " [34]\n",
      " [33]\n",
      " [33]\n",
      " [35]\n",
      " [41]\n",
      " [50]\n",
      " [53]\n",
      " [50]\n",
      " [49]\n",
      " [48]\n",
      " [46]\n",
      " [43]\n",
      " [43]\n",
      " [48]\n",
      " [50]\n",
      " [48]\n",
      " [45]\n",
      " [41]\n",
      " [38]\n",
      " [36]\n",
      " [36]\n",
      " [37]\n",
      " [36]\n",
      " [34]\n",
      " [34]\n",
      " [35]\n",
      " [38]\n",
      " [43]\n",
      " [43]\n",
      " [37]\n",
      " [37]\n",
      " [43]\n",
      " [43]\n",
      " [39]\n",
      " [37]\n",
      " [37]\n",
      " [37]\n",
      " [41]\n",
      " [41]\n",
      " [38]\n",
      " [34]\n",
      " [31]\n",
      " [28]\n",
      " [27]\n",
      " [25]\n",
      " [19]\n",
      " [17]]\n"
     ]
    }
   ],
   "source": [
    "print(batches[2][0].shape)\n",
    "print(batches[2][0][0])"
   ]
  },
  {
   "cell_type": "code",
   "execution_count": 45,
   "metadata": {},
   "outputs": [],
   "source": [
    "inputs = layers.Input((128, 128, 1))\n",
    "x = layers.Conv2D(3, 4, padding = 'same', activation = 'relu')(inputs)\n",
    "x = layers.MaxPooling2D(pool_size = (3, 3))(x)\n",
    "x = layers.Conv2D(32, 3, padding = 'valid', activation = 'relu')(x)\n",
    "x = layers.MaxPooling2D(pool_size = (3, 3))(x)\n",
    "x = layers.Conv2D(64, 3, padding = 'valid', activation = 'relu')(x)\n",
    "x = layers.MaxPooling2D(pool_size = (2,2))(x)\n",
    "x = layers.Flatten()(x)\n",
    "x = layers.Dense(128, activation = 'relu')(x)\n",
    "x = layers.Dense(64, activation = 'relu')(x)\n",
    "x = layers.Dense(32, activation = 'relu')(x)\n",
    "outputs = []\n",
    "for i in range(6):\n",
    "    outputs.append(layers.Dense(16, activation = 'sigmoid')(x))\n",
    "\n",
    "model = keras.Model(inputs = inputs, outputs = outputs)"
   ]
  },
  {
   "cell_type": "code",
   "execution_count": 46,
   "metadata": {},
   "outputs": [],
   "source": [
    "model.compile(\n",
    "    loss = keras.losses.SparseCategoricalCrossentropy(from_logits = True),\n",
    "    optimizer = keras.optimizers.Adam(lr = 0.5),\n",
    "    metrics = ['accuracy']\n",
    ")"
   ]
  },
  {
   "cell_type": "code",
   "execution_count": 13,
   "metadata": {},
   "outputs": [
    {
     "name": "stdout",
     "output_type": "stream",
     "text": [
      "18\n",
      "18000\n",
      "(18000, 128, 128, 1)\n",
      "(3600, 128, 128, 1)\n",
      "6\n",
      "(18000,)\n",
      "6\n",
      "(3600,)\n"
     ]
    }
   ],
   "source": [
    "X_test = [i for i in batches[-1]]\n",
    "Y_test = []\n",
    "X_train = []\n",
    "Y_train = []\n",
    "print(len(Y))\n",
    "\n",
    "for i in range(len(batches)):\n",
    "    for j in batches[i]:\n",
    "        X_train.append(j)\n",
    "    \n",
    "    for j in Y[i]:\n",
    "        Y_train.append(j)\n",
    "\n",
    "for i in Y[-1]:\n",
    "    Y_test.append(i)\n",
    "print(len(X_train))\n",
    "X_train = np.array(X_train)\n",
    "#X_test = np.array(X_test)\n",
    "X_test = np.array(test_x)\n",
    "Y_train = list(np.array(Y_train).T)\n",
    "Y_test = list(np.array(test_y).T)\n",
    "for i in range(len(Y_train)):\n",
    "    Y_train[i] = Y_train[i].T\n",
    "    Y_test[i] = Y_test[i].T\n",
    "#Y_test = np.array(Y_test)\n",
    "print(X_train.shape)\n",
    "print(X_test.shape)\n",
    "print(len(Y_train))\n",
    "print(Y_train[0].shape)\n",
    "print(len(Y_test))\n",
    "print(Y_test[0].shape)"
   ]
  },
  {
   "cell_type": "code",
   "execution_count": 48,
   "metadata": {},
   "outputs": [
    {
     "name": "stdout",
     "output_type": "stream",
     "text": [
      "Model: \"model_3\"\n",
      "__________________________________________________________________________________________________\n",
      "Layer (type)                    Output Shape         Param #     Connected to                     \n",
      "==================================================================================================\n",
      "input_4 (InputLayer)            [(None, 128, 128, 1) 0                                            \n",
      "__________________________________________________________________________________________________\n",
      "conv2d_11 (Conv2D)              (None, 128, 128, 3)  51          input_4[0][0]                    \n",
      "__________________________________________________________________________________________________\n",
      "max_pooling2d_10 (MaxPooling2D) (None, 42, 42, 3)    0           conv2d_11[0][0]                  \n",
      "__________________________________________________________________________________________________\n",
      "conv2d_12 (Conv2D)              (None, 40, 40, 32)   896         max_pooling2d_10[0][0]           \n",
      "__________________________________________________________________________________________________\n",
      "max_pooling2d_11 (MaxPooling2D) (None, 13, 13, 32)   0           conv2d_12[0][0]                  \n",
      "__________________________________________________________________________________________________\n",
      "conv2d_13 (Conv2D)              (None, 11, 11, 64)   18496       max_pooling2d_11[0][0]           \n",
      "__________________________________________________________________________________________________\n",
      "max_pooling2d_12 (MaxPooling2D) (None, 5, 5, 64)     0           conv2d_13[0][0]                  \n",
      "__________________________________________________________________________________________________\n",
      "flatten_3 (Flatten)             (None, 1600)         0           max_pooling2d_12[0][0]           \n",
      "__________________________________________________________________________________________________\n",
      "dense_27 (Dense)                (None, 128)          204928      flatten_3[0][0]                  \n",
      "__________________________________________________________________________________________________\n",
      "dense_28 (Dense)                (None, 64)           8256        dense_27[0][0]                   \n",
      "__________________________________________________________________________________________________\n",
      "dense_29 (Dense)                (None, 32)           2080        dense_28[0][0]                   \n",
      "__________________________________________________________________________________________________\n",
      "dense_30 (Dense)                (None, 16)           528         dense_29[0][0]                   \n",
      "__________________________________________________________________________________________________\n",
      "dense_31 (Dense)                (None, 16)           528         dense_29[0][0]                   \n",
      "__________________________________________________________________________________________________\n",
      "dense_32 (Dense)                (None, 16)           528         dense_29[0][0]                   \n",
      "__________________________________________________________________________________________________\n",
      "dense_33 (Dense)                (None, 16)           528         dense_29[0][0]                   \n",
      "__________________________________________________________________________________________________\n",
      "dense_34 (Dense)                (None, 16)           528         dense_29[0][0]                   \n",
      "__________________________________________________________________________________________________\n",
      "dense_35 (Dense)                (None, 16)           528         dense_29[0][0]                   \n",
      "==================================================================================================\n",
      "Total params: 237,875\n",
      "Trainable params: 237,875\n",
      "Non-trainable params: 0\n",
      "__________________________________________________________________________________________________\n",
      "None\n"
     ]
    }
   ],
   "source": [
    "print(model.summary())"
   ]
  },
  {
   "cell_type": "code",
   "execution_count": 49,
   "metadata": {},
   "outputs": [
    {
     "name": "stdout",
     "output_type": "stream",
     "text": [
      "[(None, 128, 128, 1)]\n",
      "(None, 128, 128, 3)\n",
      "(None, 42, 42, 3)\n",
      "(None, 40, 40, 32)\n",
      "(None, 13, 13, 32)\n",
      "(None, 11, 11, 64)\n",
      "(None, 5, 5, 64)\n",
      "(None, 1600)\n",
      "(None, 128)\n",
      "(None, 64)\n",
      "(None, 32)\n",
      "(None, 16)\n",
      "(None, 16)\n",
      "(None, 16)\n",
      "(None, 16)\n",
      "(None, 16)\n",
      "(None, 16)\n"
     ]
    }
   ],
   "source": [
    "for i in model.layers:\n",
    "    print(i.output_shape)"
   ]
  },
  {
   "cell_type": "code",
   "execution_count": 50,
   "metadata": {},
   "outputs": [
    {
     "name": "stdout",
     "output_type": "stream",
     "text": [
      "Train on 18000 samples\n",
      "Epoch 1/10\n",
      "18000/18000 - 127s - loss: 13428.4628 - dense_30_loss: 1474.3491 - dense_31_loss: 2846.1155 - dense_32_loss: 606.1018 - dense_33_loss: 3365.4751 - dense_34_loss: 3326.2075 - dense_35_loss: 1810.2147 - dense_30_accuracy: 0.6033 - dense_31_accuracy: 0.7126 - dense_32_accuracy: 0.5634 - dense_33_accuracy: 0.6017 - dense_34_accuracy: 0.6034 - dense_35_accuracy: 0.6032\n",
      "Epoch 2/10\n",
      "18000/18000 - 116s - loss: 5.9615 - dense_30_loss: 1.0454 - dense_31_loss: 0.4745 - dense_32_loss: 1.2068 - dense_33_loss: 1.0211 - dense_34_loss: 1.1634 - dense_35_loss: 1.0504 - dense_30_accuracy: 0.8333 - dense_31_accuracy: 0.8333 - dense_32_accuracy: 0.8333 - dense_33_accuracy: 0.8333 - dense_34_accuracy: 0.8333 - dense_35_accuracy: 0.8333\n",
      "Epoch 3/10\n",
      "18000/18000 - 113s - loss: 3.0889 - dense_30_loss: 0.5153 - dense_31_loss: 0.4557 - dense_32_loss: 0.5580 - dense_33_loss: 0.5077 - dense_34_loss: 0.5424 - dense_35_loss: 0.5098 - dense_30_accuracy: 0.8333 - dense_31_accuracy: 0.8333 - dense_32_accuracy: 0.8333 - dense_33_accuracy: 0.8333 - dense_34_accuracy: 0.8333 - dense_35_accuracy: 0.8333\n",
      "Epoch 4/10\n",
      "18000/18000 - 115s - loss: 2.7862 - dense_30_loss: 0.4671 - dense_31_loss: 0.4538 - dense_32_loss: 0.4698 - dense_33_loss: 0.4628 - dense_34_loss: 0.4669 - dense_35_loss: 0.4658 - dense_30_accuracy: 0.8333 - dense_31_accuracy: 0.8333 - dense_32_accuracy: 0.8333 - dense_33_accuracy: 0.8333 - dense_34_accuracy: 0.8333 - dense_35_accuracy: 0.8333\n",
      "Epoch 5/10\n",
      "18000/18000 - 112s - loss: 2.7331 - dense_30_loss: 0.4563 - dense_31_loss: 0.4533 - dense_32_loss: 0.4569 - dense_33_loss: 0.4552 - dense_34_loss: 0.4557 - dense_35_loss: 0.4558 - dense_30_accuracy: 0.8333 - dense_31_accuracy: 0.8333 - dense_32_accuracy: 0.8333 - dense_33_accuracy: 0.8333 - dense_34_accuracy: 0.8333 - dense_35_accuracy: 0.8333\n",
      "Epoch 6/10\n",
      "18000/18000 - 112s - loss: 2.7200 - dense_30_loss: 0.4535 - dense_31_loss: 0.4522 - dense_32_loss: 0.4541 - dense_33_loss: 0.4537 - dense_34_loss: 0.4534 - dense_35_loss: 0.4532 - dense_30_accuracy: 0.8333 - dense_31_accuracy: 0.8333 - dense_32_accuracy: 0.8333 - dense_33_accuracy: 0.8333 - dense_34_accuracy: 0.8333 - dense_35_accuracy: 0.8333\n",
      "Epoch 7/10\n",
      "18000/18000 - 113s - loss: 2.7155 - dense_30_loss: 0.4527 - dense_31_loss: 0.4519 - dense_32_loss: 0.4528 - dense_33_loss: 0.4527 - dense_34_loss: 0.4527 - dense_35_loss: 0.4527 - dense_30_accuracy: 0.8333 - dense_31_accuracy: 0.8333 - dense_32_accuracy: 0.8333 - dense_33_accuracy: 0.8333 - dense_34_accuracy: 0.8333 - dense_35_accuracy: 0.8333\n",
      "Epoch 8/10\n",
      "18000/18000 - 112s - loss: 2.7134 - dense_30_loss: 0.4523 - dense_31_loss: 0.4517 - dense_32_loss: 0.4527 - dense_33_loss: 0.4521 - dense_34_loss: 0.4523 - dense_35_loss: 0.4522 - dense_30_accuracy: 0.8333 - dense_31_accuracy: 0.8333 - dense_32_accuracy: 0.8333 - dense_33_accuracy: 0.8333 - dense_34_accuracy: 0.8333 - dense_35_accuracy: 0.8333\n",
      "Epoch 9/10\n",
      "18000/18000 - 111s - loss: 2.7124 - dense_30_loss: 0.4521 - dense_31_loss: 0.4516 - dense_32_loss: 0.4525 - dense_33_loss: 0.4519 - dense_34_loss: 0.4523 - dense_35_loss: 0.4521 - dense_30_accuracy: 0.8333 - dense_31_accuracy: 0.8333 - dense_32_accuracy: 0.8333 - dense_33_accuracy: 0.8333 - dense_34_accuracy: 0.8333 - dense_35_accuracy: 0.8333\n",
      "Epoch 10/10\n",
      "18000/18000 - 114s - loss: 2.7110 - dense_30_loss: 0.4519 - dense_31_loss: 0.4518 - dense_32_loss: 0.4519 - dense_33_loss: 0.4517 - dense_34_loss: 0.4520 - dense_35_loss: 0.4517 - dense_30_accuracy: 0.8333 - dense_31_accuracy: 0.8333 - dense_32_accuracy: 0.8333 - dense_33_accuracy: 0.8333 - dense_34_accuracy: 0.8333 - dense_35_accuracy: 0.8333\n"
     ]
    },
    {
     "data": {
      "text/plain": [
       "<tensorflow.python.keras.callbacks.History at 0x2e0810092e0>"
      ]
     },
     "execution_count": 50,
     "metadata": {},
     "output_type": "execute_result"
    }
   ],
   "source": [
    "model.fit(X_train, Y_train, batch_size = 1000, epochs = 10, verbose = 2)"
   ]
  },
  {
   "cell_type": "code",
   "execution_count": 51,
   "metadata": {},
   "outputs": [
    {
     "name": "stderr",
     "output_type": "stream",
     "text": [
      "C:\\Users\\Narendra Shetty\\Documents\\Tanish\\programming\\anaconda\\lib\\site-packages\\tensorflow\\python\\keras\\engine\\training.py:2325: UserWarning: `Model.state_updates` will be removed in a future version. This property should not be used in TensorFlow 2.0, as `updates` are applied automatically.\n",
      "  warnings.warn('`Model.state_updates` will be removed in a future version. '\n"
     ]
    },
    {
     "data": {
      "text/plain": [
       "[2.7119023270077176,\n",
       " 0.45119497,\n",
       " 0.4542778,\n",
       " 0.44958326,\n",
       " 0.45303404,\n",
       " 0.45474315,\n",
       " 0.44869536,\n",
       " 0.8333333,\n",
       " 0.8333333,\n",
       " 0.8333333,\n",
       " 0.8333333,\n",
       " 0.8333333,\n",
       " 0.8333333]"
      ]
     },
     "execution_count": 51,
     "metadata": {},
     "output_type": "execute_result"
    }
   ],
   "source": [
    "model.evaluate(X_test, Y_test, batch_size = 1000, verbose = 2)"
   ]
  },
  {
   "cell_type": "code",
   "execution_count": 52,
   "metadata": {},
   "outputs": [],
   "source": [
    "model.save_weights('saved_weights/') #Saving it in a folder sharing the same directory as your ipython file."
   ]
  },
  {
   "cell_type": "code",
   "execution_count": 53,
   "metadata": {},
   "outputs": [
    {
     "name": "stdout",
     "output_type": "stream",
     "text": [
      "INFO:tensorflow:Assets written to: complete_model\\assets\n"
     ]
    }
   ],
   "source": [
    "model.save('complete_model')"
   ]
  },
  {
   "cell_type": "code",
   "execution_count": 54,
   "metadata": {},
   "outputs": [],
   "source": [
    "model.save_weights('Neural-Network/with_tensorflow/handimages/saved_weights/') #Saving it for github"
   ]
  },
  {
   "cell_type": "code",
   "execution_count": 55,
   "metadata": {},
   "outputs": [
    {
     "name": "stdout",
     "output_type": "stream",
     "text": [
      "INFO:tensorflow:Assets written to: Neural-Network/with_tensorflow/handimages/complete_model/assets\n"
     ]
    }
   ],
   "source": [
    "model.save('Neural-Network/with_tensorflow/handimages/complete_model/')"
   ]
  },
  {
   "cell_type": "code",
   "execution_count": 11,
   "metadata": {},
   "outputs": [],
   "source": [
    "model1 = tf.keras.models.load_model('complete_model/')"
   ]
  },
  {
   "cell_type": "code",
   "execution_count": 12,
   "metadata": {},
   "outputs": [
    {
     "name": "stdout",
     "output_type": "stream",
     "text": [
      "Model: \"model_3\"\n",
      "__________________________________________________________________________________________________\n",
      "Layer (type)                    Output Shape         Param #     Connected to                     \n",
      "==================================================================================================\n",
      "input_4 (InputLayer)            [(None, 128, 128, 1) 0                                            \n",
      "__________________________________________________________________________________________________\n",
      "conv2d_11 (Conv2D)              (None, 128, 128, 3)  51          input_4[0][0]                    \n",
      "__________________________________________________________________________________________________\n",
      "max_pooling2d_10 (MaxPooling2D) (None, 42, 42, 3)    0           conv2d_11[0][0]                  \n",
      "__________________________________________________________________________________________________\n",
      "conv2d_12 (Conv2D)              (None, 40, 40, 32)   896         max_pooling2d_10[0][0]           \n",
      "__________________________________________________________________________________________________\n",
      "max_pooling2d_11 (MaxPooling2D) (None, 13, 13, 32)   0           conv2d_12[0][0]                  \n",
      "__________________________________________________________________________________________________\n",
      "conv2d_13 (Conv2D)              (None, 11, 11, 64)   18496       max_pooling2d_11[0][0]           \n",
      "__________________________________________________________________________________________________\n",
      "max_pooling2d_12 (MaxPooling2D) (None, 5, 5, 64)     0           conv2d_13[0][0]                  \n",
      "__________________________________________________________________________________________________\n",
      "flatten_3 (Flatten)             (None, 1600)         0           max_pooling2d_12[0][0]           \n",
      "__________________________________________________________________________________________________\n",
      "dense_27 (Dense)                (None, 128)          204928      flatten_3[0][0]                  \n",
      "__________________________________________________________________________________________________\n",
      "dense_28 (Dense)                (None, 64)           8256        dense_27[0][0]                   \n",
      "__________________________________________________________________________________________________\n",
      "dense_29 (Dense)                (None, 32)           2080        dense_28[0][0]                   \n",
      "__________________________________________________________________________________________________\n",
      "dense_30 (Dense)                (None, 16)           528         dense_29[0][0]                   \n",
      "__________________________________________________________________________________________________\n",
      "dense_31 (Dense)                (None, 16)           528         dense_29[0][0]                   \n",
      "__________________________________________________________________________________________________\n",
      "dense_32 (Dense)                (None, 16)           528         dense_29[0][0]                   \n",
      "__________________________________________________________________________________________________\n",
      "dense_33 (Dense)                (None, 16)           528         dense_29[0][0]                   \n",
      "__________________________________________________________________________________________________\n",
      "dense_34 (Dense)                (None, 16)           528         dense_29[0][0]                   \n",
      "__________________________________________________________________________________________________\n",
      "dense_35 (Dense)                (None, 16)           528         dense_29[0][0]                   \n",
      "==================================================================================================\n",
      "Total params: 237,875\n",
      "Trainable params: 237,875\n",
      "Non-trainable params: 0\n",
      "__________________________________________________________________________________________________\n"
     ]
    }
   ],
   "source": [
    "model1.summary()"
   ]
  },
  {
   "cell_type": "code",
   "execution_count": 13,
   "metadata": {},
   "outputs": [
    {
     "ename": "NameError",
     "evalue": "name 'X_test' is not defined",
     "output_type": "error",
     "traceback": [
      "\u001b[1;31m---------------------------------------------------------------------------\u001b[0m",
      "\u001b[1;31mNameError\u001b[0m                                 Traceback (most recent call last)",
      "\u001b[1;32m<ipython-input-13-ebae215612ae>\u001b[0m in \u001b[0;36m<module>\u001b[1;34m\u001b[0m\n\u001b[1;32m----> 1\u001b[1;33m \u001b[0mmodel1\u001b[0m\u001b[1;33m.\u001b[0m\u001b[0mevaluate\u001b[0m\u001b[1;33m(\u001b[0m\u001b[0mX_test\u001b[0m\u001b[1;33m,\u001b[0m \u001b[0mY_test\u001b[0m\u001b[1;33m,\u001b[0m \u001b[0mbatch_size\u001b[0m \u001b[1;33m=\u001b[0m \u001b[1;36m1000\u001b[0m\u001b[1;33m,\u001b[0m \u001b[0mverbose\u001b[0m \u001b[1;33m=\u001b[0m \u001b[1;36m2\u001b[0m\u001b[1;33m)\u001b[0m\u001b[1;33m\u001b[0m\u001b[1;33m\u001b[0m\u001b[0m\n\u001b[0m",
      "\u001b[1;31mNameError\u001b[0m: name 'X_test' is not defined"
     ]
    }
   ],
   "source": [
    "model1.evaluate(X_test, Y_test, batch_size = 1000, verbose = 2)"
   ]
  },
  {
   "cell_type": "code",
   "execution_count": null,
   "metadata": {},
   "outputs": [],
   "source": []
  }
 ],
 "metadata": {
  "kernelspec": {
   "display_name": "Python 3",
   "language": "python",
   "name": "python3"
  },
  "language_info": {
   "codemirror_mode": {
    "name": "ipython",
    "version": 3
   },
   "file_extension": ".py",
   "mimetype": "text/x-python",
   "name": "python",
   "nbconvert_exporter": "python",
   "pygments_lexer": "ipython3",
   "version": "3.7.3"
  }
 },
 "nbformat": 4,
 "nbformat_minor": 4
}
